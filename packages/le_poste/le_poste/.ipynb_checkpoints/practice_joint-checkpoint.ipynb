{
 "cells": [
  {
   "cell_type": "code",
   "execution_count": null,
   "metadata": {},
   "outputs": [],
   "source": [
    "#### what needs to be done"
   ]
  },
  {
   "cell_type": "code",
   "execution_count": null,
   "metadata": {},
   "outputs": [],
   "source": [
    "# in predict.py: we are passing a json file but my pipeline itself is not made to handle such a situation\n",
    "# need to go through categorical numerical imputer taught in the course to see how they are dealing with such \n",
    "# a situation"
   ]
  },
  {
   "cell_type": "code",
   "execution_count": 1,
   "metadata": {},
   "outputs": [],
   "source": [
    "import entity"
   ]
  },
  {
   "cell_type": "code",
   "execution_count": null,
   "metadata": {},
   "outputs": [],
   "source": []
  },
  {
   "cell_type": "code",
   "execution_count": 2,
   "metadata": {},
   "outputs": [],
   "source": [
    "#### path practice"
   ]
  },
  {
   "cell_type": "code",
   "execution_count": 3,
   "metadata": {},
   "outputs": [],
   "source": [
    "### config.py\n",
    "# https://stackoverflow.com/questions/714063/importing-modules-from-parent-folder\n",
    "### when you want to import parentdir"
   ]
  },
  {
   "cell_type": "code",
   "execution_count": 4,
   "metadata": {},
   "outputs": [],
   "source": [
    "import os,sys,inspect"
   ]
  },
  {
   "cell_type": "code",
   "execution_count": 5,
   "metadata": {},
   "outputs": [
    {
     "data": {
      "text/plain": [
       "'/home/eashan/Eashan/Data_Science/STG/NLP/nlp/project_multilingual/french_classifier/custom_pipeline/pipeline/lepost_entity/le_poste/le_poste'"
      ]
     },
     "execution_count": 5,
     "metadata": {},
     "output_type": "execute_result"
    }
   ],
   "source": [
    "currentdir = os.path.dirname(os.path.abspath(inspect.getfile(inspect.currentframe())))\n",
    "currentdir"
   ]
  },
  {
   "cell_type": "code",
   "execution_count": 6,
   "metadata": {},
   "outputs": [
    {
     "data": {
      "text/plain": [
       "'/home/eashan/Eashan/Data_Science/STG/NLP/nlp/project_multilingual/french_classifier/custom_pipeline/pipeline/lepost_entity/le_poste'"
      ]
     },
     "execution_count": 6,
     "metadata": {},
     "output_type": "execute_result"
    }
   ],
   "source": [
    "parentdir = os.path.dirname(currentdir)\n",
    "parentdir"
   ]
  },
  {
   "cell_type": "code",
   "execution_count": 7,
   "metadata": {},
   "outputs": [],
   "source": [
    "sys.path.insert(0,parentdir) "
   ]
  },
  {
   "cell_type": "code",
   "execution_count": 6,
   "metadata": {},
   "outputs": [],
   "source": [
    "import le_poste\n",
    "from le_poste.config import config as cf\n",
    "import pandas as pd"
   ]
  },
  {
   "cell_type": "code",
   "execution_count": 32,
   "metadata": {},
   "outputs": [],
   "source": [
    "dat = pd.read_excel(cf.DATASET_DIR/cf.TRAINING_DATA_FILE)"
   ]
  },
  {
   "cell_type": "code",
   "execution_count": 33,
   "metadata": {},
   "outputs": [],
   "source": [
    "import le_poste.config as config"
   ]
  },
  {
   "cell_type": "code",
   "execution_count": 1,
   "metadata": {},
   "outputs": [],
   "source": [
    "# config.DATASET_DIR"
   ]
  },
  {
   "cell_type": "code",
   "execution_count": null,
   "metadata": {},
   "outputs": [],
   "source": []
  },
  {
   "cell_type": "code",
   "execution_count": 26,
   "metadata": {},
   "outputs": [],
   "source": [
    "# import config\n",
    "from ... import le_poste"
   ]
  },
  {
   "cell_type": "code",
   "execution_count": 12,
   "metadata": {},
   "outputs": [],
   "source": [
    "# $PYTHONPATH"
   ]
  },
  {
   "cell_type": "code",
   "execution_count": 2,
   "metadata": {},
   "outputs": [],
   "source": [
    "# from config import config as cf"
   ]
  },
  {
   "cell_type": "code",
   "execution_count": 11,
   "metadata": {},
   "outputs": [],
   "source": [
    "import config.config_ as c"
   ]
  },
  {
   "cell_type": "code",
   "execution_count": 12,
   "metadata": {},
   "outputs": [
    {
     "data": {
      "text/plain": [
       "'../data/train.xlsx'"
      ]
     },
     "execution_count": 12,
     "metadata": {},
     "output_type": "execute_result"
    }
   ],
   "source": [
    "c.path"
   ]
  },
  {
   "cell_type": "code",
   "execution_count": null,
   "metadata": {},
   "outputs": [],
   "source": []
  },
  {
   "cell_type": "code",
   "execution_count": 24,
   "metadata": {},
   "outputs": [],
   "source": [
    "### defining config"
   ]
  },
  {
   "cell_type": "code",
   "execution_count": 8,
   "metadata": {},
   "outputs": [],
   "source": [
    "import pathlib\n",
    "# import le_poste"
   ]
  },
  {
   "cell_type": "code",
   "execution_count": 9,
   "metadata": {},
   "outputs": [],
   "source": [
    "# PACKAGE_ROOT = r'/home/eashan/Eashan/Data_Science/NLP/nlp/project_multilingual/french_classifier/custom_pipeline/pipeline/ipynb_files_3/python_files'\n",
    "PACKAGE_ROOT = r\"/home/eashan/Eashan/Data_Science/STG/NLP/nlp/project_multilingual/french_classifier/custom_pipeline/pipeline/leposte_6.4/le_poste/le_poste/\""
   ]
  },
  {
   "cell_type": "code",
   "execution_count": 10,
   "metadata": {},
   "outputs": [],
   "source": [
    "TRAINED_MODEL_DIR = PACKAGE_ROOT +  'trained_models'"
   ]
  },
  {
   "cell_type": "code",
   "execution_count": 11,
   "metadata": {},
   "outputs": [
    {
     "data": {
      "text/plain": [
       "'/home/eashan/Eashan/Data_Science/STG/NLP/nlp/project_multilingual/french_classifier/custom_pipeline/pipeline/leposte_6.4/le_poste/le_poste/trained_models'"
      ]
     },
     "execution_count": 11,
     "metadata": {},
     "output_type": "execute_result"
    }
   ],
   "source": [
    "TRAINED_MODEL_DIR"
   ]
  },
  {
   "cell_type": "code",
   "execution_count": 12,
   "metadata": {},
   "outputs": [],
   "source": [
    "DATASET_DIR = PACKAGE_ROOT + 'data'"
   ]
  },
  {
   "cell_type": "code",
   "execution_count": 13,
   "metadata": {},
   "outputs": [
    {
     "data": {
      "text/plain": [
       "'/home/eashan/Eashan/Data_Science/STG/NLP/nlp/project_multilingual/french_classifier/custom_pipeline/pipeline/leposte_6.4/le_poste/le_poste/data'"
      ]
     },
     "execution_count": 13,
     "metadata": {},
     "output_type": "execute_result"
    }
   ],
   "source": [
    "DATASET_DIR"
   ]
  },
  {
   "cell_type": "code",
   "execution_count": 14,
   "metadata": {},
   "outputs": [],
   "source": [
    "# data\n",
    "# TESTING_DATA_FILE = '.data/test.xlsx'\n",
    "TESTING_DATA_FILE = 'test.xlsx'\n",
    "TRAINING_DATA_FILE = 'train.xlsx'"
   ]
  },
  {
   "cell_type": "code",
   "execution_count": 50,
   "metadata": {},
   "outputs": [],
   "source": [
    "# pipeline name\n",
    "PIPELINE_NAME = 'Random_Forest_pipeline.pkl'\n",
    "\n",
    "\n",
    "# features\n",
    "FEATURES = 'Résumé'\n",
    "# FEATURES = 'Descriptif' # The reason being french data not captured in json\n",
    "\n",
    "# target\n",
    "TARGET = 'SubCat Translated'\n",
    "\n",
    "path = \"./data/train.xlsx\"\n",
    "\n",
    "SUBC = \"SubCat Translated\"\n",
    "\n",
    "path_s = r\"/home/eashan/Eashan/Data_Science/STG/NLP/nlp/project_multilingual/french_classifier/custom_pipeline/pipeline/lepost_entity/le_poste/le_poste/\""
   ]
  },
  {
   "cell_type": "code",
   "execution_count": null,
   "metadata": {},
   "outputs": [],
   "source": []
  },
  {
   "cell_type": "code",
   "execution_count": 9,
   "metadata": {},
   "outputs": [],
   "source": [
    "#data_management.py\n",
    "# waiting to check it's working"
   ]
  },
  {
   "cell_type": "code",
   "execution_count": 16,
   "metadata": {},
   "outputs": [
    {
     "name": "stderr",
     "output_type": "stream",
     "text": [
      "/home/eashan/anaconda3/envs/nlp/lib/python3.6/site-packages/sklearn/externals/joblib/__init__.py:15: FutureWarning: sklearn.externals.joblib is deprecated in 0.21 and will be removed in 0.23. Please import this functionality directly from joblib, which can be installed with: pip install joblib. If this warning is raised when loading pickled models, you may need to re-serialize those models with scikit-learn 0.21+.\n",
      "  warnings.warn(msg, category=FutureWarning)\n"
     ]
    }
   ],
   "source": [
    "import pandas as pd\n",
    "from sklearn.externals import joblib\n",
    "from sklearn.pipeline import Pipeline\n",
    "\n",
    "# from config import config as config"
   ]
  },
  {
   "cell_type": "code",
   "execution_count": 17,
   "metadata": {},
   "outputs": [],
   "source": [
    "def load_dataset(*, file_name: str\n",
    "                 ) -> pd.DataFrame:\n",
    "    _data = pd.read_excel(f'{DATASET_DIR}/{file_name}')\n",
    "    return _data"
   ]
  },
  {
   "cell_type": "code",
   "execution_count": 12,
   "metadata": {},
   "outputs": [],
   "source": [
    "# tr = load_dataset()"
   ]
  },
  {
   "cell_type": "code",
   "execution_count": 26,
   "metadata": {},
   "outputs": [],
   "source": [
    "def save_pipeline(*, pipeline_to_persist) -> None:\n",
    "    \"\"\"Persist the pipeline.\"\"\"\n",
    "\n",
    "    save_file_name = 'regression_model_chk.pkl'\n",
    "    save_path = TRAINED_MODEL_DIR + '/' + save_file_name\n",
    "    joblib.dump(pipeline_to_persist, save_path)\n",
    "\n",
    "    print('saved pipeline')"
   ]
  },
  {
   "cell_type": "code",
   "execution_count": 27,
   "metadata": {},
   "outputs": [],
   "source": [
    "# save_path"
   ]
  },
  {
   "cell_type": "code",
   "execution_count": 18,
   "metadata": {},
   "outputs": [],
   "source": [
    "def load_pipeline(*, file_name: str\n",
    "                  ) -> Pipeline:\n",
    "    \"\"\"Load a persisted pipeline.\"\"\"\n",
    "\n",
    "    file_path = TRAINED_MODEL_DIR + '/' + file_name\n",
    "    saved_pipeline = joblib.load(filename=file_path)\n",
    "    return saved_pipeline"
   ]
  },
  {
   "cell_type": "code",
   "execution_count": null,
   "metadata": {},
   "outputs": [],
   "source": []
  },
  {
   "cell_type": "code",
   "execution_count": 15,
   "metadata": {},
   "outputs": [],
   "source": [
    "# class_weights"
   ]
  },
  {
   "cell_type": "code",
   "execution_count": 29,
   "metadata": {},
   "outputs": [],
   "source": [
    "from sklearn.utils import class_weight\n",
    "import pandas as pd\n",
    "import numpy as np"
   ]
  },
  {
   "cell_type": "code",
   "execution_count": 30,
   "metadata": {},
   "outputs": [],
   "source": [
    "def classweights_sklearn(path):\n",
    "    dat = pd.read_excel(path)   \n",
    "    dat[TARGET].fillna('other', inplace=True)\n",
    "    label = dat[TARGET].astype(str).values.tolist()\n",
    "\n",
    "    class_weights = class_weight.compute_class_weight('balanced', np.unique(label), label)\n",
    "\n",
    "    cw = dict(zip(np.unique(label), class_weight.compute_class_weight('balanced',\n",
    "                                                 np.unique(label),\n",
    "                                                 label))) \n",
    "    return cw\n"
   ]
  },
  {
   "cell_type": "code",
   "execution_count": null,
   "metadata": {},
   "outputs": [],
   "source": []
  },
  {
   "cell_type": "code",
   "execution_count": null,
   "metadata": {},
   "outputs": [],
   "source": []
  },
  {
   "cell_type": "code",
   "execution_count": 18,
   "metadata": {},
   "outputs": [],
   "source": [
    "# preprocessers.py"
   ]
  },
  {
   "cell_type": "code",
   "execution_count": 21,
   "metadata": {},
   "outputs": [],
   "source": [
    "import numpy as np\n",
    "import pandas as pd\n",
    "import re\n",
    "from sklearn.base import BaseEstimator, TransformerMixin\n",
    "from nltk.stem.snowball import FrenchStemmer"
   ]
  },
  {
   "cell_type": "code",
   "execution_count": 22,
   "metadata": {},
   "outputs": [],
   "source": [
    "class Regex(BaseEstimator, TransformerMixin):\n",
    "#  https://stackoverflow.com/questions/52123026/sklearn-pipeline-valueerror-could-not-convert-string-to-float   \n",
    "    def fit(self, X, y = None):\n",
    "        return self\n",
    "    \n",
    "    def transform(self, text):\n",
    "        for i in range(0, len(text)):\n",
    "            text[i] = text[i].lower()\n",
    "            text[i] = re.sub('\\d{2}/\\d{2}/\\d{4}', ' ', text[i])\n",
    "            text[i] = re.sub(r'\\d{2}:\\d{2}:\\d{2}', ' ', text[i])\n",
    "            text[i] = re.sub(r\"[a-z0-9]+[\\.'\\-]*[a-z0-9]+@(laposte|googlemail)\\.(com|fr)$\", ' ', text[i])\n",
    "            text[i] = re.sub(r'[?|$|.|!|-|#|*|&|/|%|,|\"|:|;|*|@|#|\\[|\\]|\\(|\\)]',r'',text[i])\n",
    "        return text\n",
    "\n",
    "\n",
    "# In[14]:\n",
    "\n",
    "\n",
    "class Fr_Stemmer(BaseEstimator, TransformerMixin):\n",
    "    \n",
    "    def fit(self, X, y = None):\n",
    "        return self\n",
    "    \n",
    "    def transform(self, corpus):\n",
    "        st = FrenchStemmer()\n",
    "        stem = []\n",
    "        for sentence in corpus:\n",
    "            stem.append(\" \".join([st.stem(i) for i in sentence.split()]))\n",
    "        return stem\n",
    "\n",
    "\n",
    "# In[15]:\n",
    "\n",
    "\n",
    "class df_tolist(BaseEstimator, TransformerMixin):\n",
    "    \n",
    "    def __init__(self, feature = None):\n",
    "        self.feature = feature\n",
    "    \n",
    "    def fit(self, X, y = None):\n",
    "        return self\n",
    "    \n",
    "    def transform(self, corpus):\n",
    "        corpus = corpus.copy()\n",
    "        dat = corpus[self.feature].values.tolist()\n",
    "        return dat\n",
    "\n",
    "\n",
    "# In[16]:\n",
    "\n",
    "\n",
    "class fill_na(BaseEstimator, TransformerMixin):\n",
    "\n",
    "    def __init__(self, feature = None):\n",
    "        self.feature = feature\n",
    "    \n",
    "    def fit(self, X, y = None):\n",
    "        return self\n",
    "    \n",
    "    def transform(self, corpus):\n",
    "        corpus = corpus.copy()\n",
    "        corpus[self.feature].fillna('other', inplace=True)\n",
    "        return corpus\n",
    "\n"
   ]
  },
  {
   "cell_type": "code",
   "execution_count": null,
   "metadata": {},
   "outputs": [],
   "source": []
  },
  {
   "cell_type": "code",
   "execution_count": 21,
   "metadata": {},
   "outputs": [],
   "source": [
    "#pipeline"
   ]
  },
  {
   "cell_type": "code",
   "execution_count": 22,
   "metadata": {},
   "outputs": [],
   "source": [
    "from sklearn.feature_extraction.text import CountVectorizer, TfidfTransformer\n",
    "from sklearn.feature_extraction.text import TfidfVectorizer\n",
    "from sklearn.ensemble import RandomForestClassifier\n",
    "from imblearn.pipeline import Pipeline  ### use this one only\n",
    "from sklearn.base import BaseEstimator, TransformerMixin\n",
    "from imblearn.over_sampling import SMOTE\n",
    "# import preprocessers as pp\n",
    "# import class_weight as cw\n",
    "# import config_ as cf"
   ]
  },
  {
   "cell_type": "code",
   "execution_count": 23,
   "metadata": {},
   "outputs": [],
   "source": [
    "# In[3]:\n",
    "# cw needs to be inserted\n",
    "pipe = Pipeline([\n",
    " ('na', fill_na(FEATURES)),\n",
    " ('lis', df_tolist(FEATURES)),\n",
    " ('reg', Regex()),\n",
    " ('stem', Fr_Stemmer()),\n",
    " ('vect', CountVectorizer(ngram_range = (1, 1))),\n",
    " ('tfidf', TfidfTransformer(use_idf = False)),\n",
    " ('sm', SMOTE(sampling_strategy = 'minority', random_state=32, n_jobs = -1, k_neighbors = 1)), \n",
    " ('rfc', RandomForestClassifier(n_estimators = 1200, criterion = 'entropy',\n",
    "                                random_state = 32, max_depth = 80, min_samples_split = 2, \n",
    "                                min_samples_leaf = 1, class_weight = classweights_sklearn(f'{DATASET_DIR}/{TRAINING_DATA_FILE}')) )])\n"
   ]
  },
  {
   "cell_type": "code",
   "execution_count": 32,
   "metadata": {},
   "outputs": [],
   "source": [
    "# train_pipeline.py"
   ]
  },
  {
   "cell_type": "code",
   "execution_count": 31,
   "metadata": {},
   "outputs": [],
   "source": [
    "import numpy as np\n",
    "from sklearn.model_selection import train_test_split\n",
    "\n",
    "# from regression_model import pipeline\n",
    "# from regression_model.processing.data_management import (\n",
    "#     load_dataset, save_pipeline)\n",
    "# from regression_model.config import config"
   ]
  },
  {
   "cell_type": "code",
   "execution_count": 32,
   "metadata": {},
   "outputs": [],
   "source": [
    "def run_training() -> None:\n",
    "    \"\"\"Train the model.\"\"\"\n",
    "\n",
    "    # read training data\n",
    "    data = load_dataset(file_name= TRAINING_DATA_FILE)\n",
    "    \n",
    "    # divide train and test\n",
    "    X_train, X_test, y_train, y_test = train_test_split(\n",
    "    data[[FEATURES]],\n",
    "    data[[TARGET]].values,\n",
    "    test_size=0.1,\n",
    "    random_state=32)  # we are setting the seed here\n",
    "    \n",
    "    # transform the target\n",
    "#     y_train = np.log(y_train)\n",
    "#     y_test = np.log(y_test)\n",
    "\n",
    "    pipe.fit(X_train, y_train)\n",
    "\n",
    "    save_pipeline(pipeline_to_persist=pipe)\n",
    "    \n",
    "\n",
    "# def run_training():\n",
    "#     \"\"\"Train the model.\"\"\"\n",
    "\n",
    "#     # read training data\n",
    "#     data = pd.read_excel(config.DATASET_DIR / config.TRAINING_DATA_FILE)\n",
    "#     dat_short = data[[config.FEATURES]].copy()\n",
    "    \n",
    "#     dat_targ = data[[config.TARGET]].copy()\n",
    "#     dat_arr = dat_targ.values\n",
    "    \n",
    "#     # divide train and test\n",
    "#     X_train, X_test, y_train, y_test = train_test_split(\n",
    "#         dat_short,\n",
    "#         dat_arr,\n",
    "#         test_size=0.03,\n",
    "#         random_state=32)  # we are setting the seed here\n",
    "\n",
    "#     pipeline.pipe.fit(X_train, y_train)\n",
    "#     save_pipeline(pipeline_to_persist=pipeline.pipe)\n"
   ]
  },
  {
   "cell_type": "code",
   "execution_count": 33,
   "metadata": {},
   "outputs": [
    {
     "data": {
      "text/plain": [
       "'/home/eashan/Eashan/Data_Science/STG/NLP/nlp/project_multilingual/french_classifier/custom_pipeline/pipeline/leposte_6.4/le_poste/le_poste/trained_models/Random_Forest_pipeline.pkl'"
      ]
     },
     "execution_count": 33,
     "metadata": {},
     "output_type": "execute_result"
    }
   ],
   "source": [
    "TRAINED_MODEL_DIR + '/' + PIPELINE_NAME"
   ]
  },
  {
   "cell_type": "code",
   "execution_count": 34,
   "metadata": {},
   "outputs": [
    {
     "name": "stdout",
     "output_type": "stream",
     "text": [
      "saved pipeline\n"
     ]
    }
   ],
   "source": [
    "if __name__ == '__main__':\n",
    "    run_training()"
   ]
  },
  {
   "cell_type": "code",
   "execution_count": null,
   "metadata": {},
   "outputs": [],
   "source": []
  },
  {
   "cell_type": "code",
   "execution_count": 64,
   "metadata": {},
   "outputs": [],
   "source": [
    "# validation.py"
   ]
  },
  {
   "cell_type": "code",
   "execution_count": 70,
   "metadata": {},
   "outputs": [],
   "source": [
    "# from regression_model.config import config\n",
    "\n",
    "# import pandas as pd\n",
    "\n",
    "\n",
    "def validate_inputs(input_data: pd.DataFrame) -> pd.DataFrame:\n",
    "    \"\"\"Check model inputs for unprocessable values.\"\"\"\n",
    "\n",
    "    validated_data = input_data.copy()\n",
    "    val_data = validated_data[[FEATURES]]\n",
    "\n",
    "    # check for numerical variables with NA not seen during training\n",
    "#     if input_data[config.NUMERICAL_NA_NOT_ALLOWED].isnull().any().any():\n",
    "#         validated_data = validated_data.dropna(\n",
    "#             axis=0, subset=config.NUMERICAL_NA_NOT_ALLOWED)\n",
    "\n",
    "    # check for categorical variables with NA not seen during training\n",
    "#     if input_data[config.CATEGORICAL_NA_NOT_ALLOWED].isnull().any().any():\n",
    "#         validated_data = validated_data.dropna(\n",
    "#             axis=0, subset=config.CATEGORICAL_NA_NOT_ALLOWED)\n",
    "\n",
    "    # check for values <= 0 for the log transformed variables\n",
    "#     if (input_data[config.NUMERICALS_LOG_VARS] <= 0).any().any():\n",
    "#         vars_with_neg_values = config.NUMERICALS_LOG_VARS[\n",
    "#             (input_data[config.NUMERICALS_LOG_VARS] <= 0).any()]\n",
    "#         validated_data = validated_data[\n",
    "#             validated_data[vars_with_neg_values] > 0]\n",
    "\n",
    "    return validated_data"
   ]
  },
  {
   "cell_type": "code",
   "execution_count": null,
   "metadata": {},
   "outputs": [],
   "source": []
  },
  {
   "cell_type": "code",
   "execution_count": 53,
   "metadata": {},
   "outputs": [],
   "source": [
    "#predict.py"
   ]
  },
  {
   "cell_type": "code",
   "execution_count": 45,
   "metadata": {},
   "outputs": [],
   "source": [
    "# from regression_model.processing.data_management import load_pipeline\n",
    "# from regression_model.config import config\n",
    "# from regression_model.processing.validation import validate_inputs"
   ]
  },
  {
   "cell_type": "code",
   "execution_count": 19,
   "metadata": {},
   "outputs": [],
   "source": [
    "pipeline_name = 'Random_Forest_pipeline.pkl'\n",
    "# pipeline_name = 'regression_model_chk.pkl'"
   ]
  },
  {
   "cell_type": "code",
   "execution_count": 20,
   "metadata": {},
   "outputs": [
    {
     "data": {
      "text/plain": [
       "'/home/eashan/Eashan/Data_Science/STG/NLP/nlp/project_multilingual/french_classifier/custom_pipeline/pipeline/leposte_6.4/le_poste/le_poste/trained_models/Random_Forest_pipeline.pkl'"
      ]
     },
     "execution_count": 20,
     "metadata": {},
     "output_type": "execute_result"
    }
   ],
   "source": [
    "file_path = TRAINED_MODEL_DIR + '/' + pipeline_name\n",
    "file_path"
   ]
  },
  {
   "cell_type": "code",
   "execution_count": 21,
   "metadata": {},
   "outputs": [
    {
     "name": "stderr",
     "output_type": "stream",
     "text": [
      "/home/eashan/anaconda3/envs/nlp/lib/python3.6/site-packages/sklearn/base.py:318: UserWarning: Trying to unpickle estimator CountVectorizer from version 0.22.2.post1 when using version 0.22.1. This might lead to breaking code or invalid results. Use at your own risk.\n",
      "  UserWarning)\n",
      "/home/eashan/anaconda3/envs/nlp/lib/python3.6/site-packages/sklearn/base.py:318: UserWarning: Trying to unpickle estimator TfidfTransformer from version 0.22.2.post1 when using version 0.22.1. This might lead to breaking code or invalid results. Use at your own risk.\n",
      "  UserWarning)\n",
      "/home/eashan/anaconda3/envs/nlp/lib/python3.6/site-packages/sklearn/base.py:318: UserWarning: Trying to unpickle estimator NearestNeighbors from version 0.22.2.post1 when using version 0.22.1. This might lead to breaking code or invalid results. Use at your own risk.\n",
      "  UserWarning)\n",
      "/home/eashan/anaconda3/envs/nlp/lib/python3.6/site-packages/sklearn/base.py:318: UserWarning: Trying to unpickle estimator DecisionTreeClassifier from version 0.22.2.post1 when using version 0.22.1. This might lead to breaking code or invalid results. Use at your own risk.\n",
      "  UserWarning)\n",
      "/home/eashan/anaconda3/envs/nlp/lib/python3.6/site-packages/sklearn/base.py:318: UserWarning: Trying to unpickle estimator RandomForestClassifier from version 0.22.2.post1 when using version 0.22.1. This might lead to breaking code or invalid results. Use at your own risk.\n",
      "  UserWarning)\n"
     ]
    }
   ],
   "source": [
    "pipeline_file_name = pipeline_name\n",
    "_category_pipe = load_pipeline(file_name=pipeline_file_name)"
   ]
  },
  {
   "cell_type": "code",
   "execution_count": 22,
   "metadata": {},
   "outputs": [],
   "source": [
    "def make_prediction(*, input_data) -> dict:\n",
    "    \"\"\"Make a prediction using the saved model pipeline.\"\"\"\n",
    "\n",
    "    data = pd.read_json(input_data)\n",
    "    prediction = _category_pipe.predict(data[[FEATURES]])\n",
    "#     output = np.exp(prediction)\n",
    "    response = {'predictions': prediction}\n",
    "    \n",
    "    subject = response\n",
    "\n",
    "    ind = []\n",
    "    for i in subject.values():\n",
    "        cnt = 0\n",
    "        for j in i:\n",
    "    #         print(j)\n",
    "            if j == \"Demande de déploiement\":\n",
    "                ind.append(cnt)\n",
    "    #             print(cnt, \"\\t\", \"true\")\n",
    "            cnt += 1\n",
    "\n",
    "    new_df = test_data.iloc[ind]\n",
    "\n",
    "    new_df.reset_index(inplace = True, drop = True)\n",
    "\n",
    "    df_res = new_df[[FEATURES]]\n",
    "    df_des = new_df[[TARGET]]\n",
    "\n",
    "    path = new_df\n",
    "\n",
    "    z = entity.Entity_Extraction(path, path_s)\n",
    "    data_s, data_l, dat, df_des, df_res = z.load_data()\n",
    "    a = z.Application(data_s, data_l)\n",
    "    m = z.Module(data_l)\n",
    "    r = z.Rfc(data_l)\n",
    "    e = z.Environment(data_s, data_l)\n",
    "    v = z.Version(data_s, data_l)\n",
    "\n",
    "    df = pd.concat([df_res, df_des, a, m, r, e, v], axis = 1)\n",
    "    z.transform(df)\n",
    "\n",
    "    return response"
   ]
  },
  {
   "cell_type": "code",
   "execution_count": null,
   "metadata": {},
   "outputs": [],
   "source": []
  },
  {
   "cell_type": "code",
   "execution_count": 27,
   "metadata": {},
   "outputs": [],
   "source": [
    "### test_predict.py"
   ]
  },
  {
   "cell_type": "code",
   "execution_count": 23,
   "metadata": {},
   "outputs": [],
   "source": [
    "import pytest"
   ]
  },
  {
   "cell_type": "code",
   "execution_count": 24,
   "metadata": {},
   "outputs": [],
   "source": [
    "def test_make_single_prediction():\n",
    "    # Given\n",
    "    test_data = load_dataset(file_name=TESTING_DATA_FILE)\n",
    "    single_test_json = test_data[0:1].to_json(orient='records', force_ascii = False)\n",
    "\n",
    "    # When\n",
    "    subject = make_prediction(input_data=single_test_json)\n",
    "\n",
    "    # Then\n",
    "    assert subject is not None\n",
    "    assert isinstance(subject.get('predictions')[0], str)\n",
    "    return subject"
   ]
  },
  {
   "cell_type": "code",
   "execution_count": 25,
   "metadata": {},
   "outputs": [
    {
     "data": {
      "text/html": [
       "<div>\n",
       "<style scoped>\n",
       "    .dataframe tbody tr th:only-of-type {\n",
       "        vertical-align: middle;\n",
       "    }\n",
       "\n",
       "    .dataframe tbody tr th {\n",
       "        vertical-align: top;\n",
       "    }\n",
       "\n",
       "    .dataframe thead th {\n",
       "        text-align: right;\n",
       "    }\n",
       "</style>\n",
       "<table border=\"1\" class=\"dataframe\">\n",
       "  <thead>\n",
       "    <tr style=\"text-align: right;\">\n",
       "      <th></th>\n",
       "      <th>Résumé</th>\n",
       "      <th>Descriptif</th>\n",
       "      <th>SubCat Translated</th>\n",
       "    </tr>\n",
       "  </thead>\n",
       "  <tbody>\n",
       "    <tr>\n",
       "      <th>0</th>\n",
       "      <td>I08249435 - 4 - AP0345 - DISK WARNING sur CPYV...</td>\n",
       "      <td>[CANOPSIS]\\nMessage d'erreur :\\n05/02/2019\\n17...</td>\n",
       "      <td>Autre</td>\n",
       "    </tr>\n",
       "    <tr>\n",
       "      <th>1</th>\n",
       "      <td>I08249442 - 4 - AP0345 - DISK WARNING - free s...</td>\n",
       "      <td>[CANOPSIS]\\nMessage d'erreur :\\n05/02/2019\\n17...</td>\n",
       "      <td>Autre</td>\n",
       "    </tr>\n",
       "  </tbody>\n",
       "</table>\n",
       "</div>"
      ],
      "text/plain": [
       "                                              Résumé  \\\n",
       "0  I08249435 - 4 - AP0345 - DISK WARNING sur CPYV...   \n",
       "1  I08249442 - 4 - AP0345 - DISK WARNING - free s...   \n",
       "\n",
       "                                          Descriptif SubCat Translated  \n",
       "0  [CANOPSIS]\\nMessage d'erreur :\\n05/02/2019\\n17...             Autre  \n",
       "1  [CANOPSIS]\\nMessage d'erreur :\\n05/02/2019\\n17...             Autre  "
      ]
     },
     "execution_count": 25,
     "metadata": {},
     "output_type": "execute_result"
    }
   ],
   "source": [
    "test_data = load_dataset(file_name=TESTING_DATA_FILE)\n",
    "test_data.head(2)"
   ]
  },
  {
   "cell_type": "code",
   "execution_count": 26,
   "metadata": {},
   "outputs": [
    {
     "data": {
      "text/plain": [
       "'[{\"Résumé\":\"I08249435 - 4 - AP0345 - DISK WARNING sur CPYV0621\",\"Descriptif\":\"[CANOPSIS]\\\\nMessage d\\'erreur :\\\\n05\\\\/02\\\\/2019\\\\n17:14:47 05\\\\/02\\\\/2019\\\\n17:14:47 icinga2 fk_ CPYV0621 APP_PCTESPLIBRE_ADMAA\\\\nDISK WARNING - free space: \\\\/fk_\\\\/fk_admaa 14%\\\\nnull\\\\nProcédure ou FA suivie :LZ_LINUX_PCTESPLIBRE_CRI_SCI\\\\nhttps:\\\\/\\\\/wiki.net-courrier.extra.laposte.fr\\\\/confluence\\\\/display\\\\/EXPLOITATION\\\\/LZ_LINUX_PCTESPLIBRE_CRI_SCI\\\\nnull\\\\nRien dans :\\\\nConsigne FS\\\\nhttps:\\\\/\\\\/wiki.net-courrier.extra.laposte.fr\\\\/confluence\\\\/display\\\\/EXPLOITATION\\\\/Consigne+FS\\\\n\",\"SubCat Translated\":\"Autre\"}]'"
      ]
     },
     "execution_count": 26,
     "metadata": {},
     "output_type": "execute_result"
    }
   ],
   "source": [
    "single_test_json = test_data[0:1].to_json(orient='records', force_ascii = False)\n",
    "single_test_json"
   ]
  },
  {
   "cell_type": "code",
   "execution_count": 27,
   "metadata": {},
   "outputs": [],
   "source": [
    "test_json = test_data.to_json(orient='records', force_ascii = False)"
   ]
  },
  {
   "cell_type": "code",
   "execution_count": 82,
   "metadata": {},
   "outputs": [],
   "source": [
    "# def test_make_multiple_predictions():\n",
    "#     # Given\n",
    "#     test_data = load_dataset(file_name=TESTING_DATA_FILE)\n",
    "#     original_data_length = len(test_data)\n",
    "#     multiple_test_json = test_data.to_json(orient='records', force_ascii = False)\n",
    "\n",
    "#     # When\n",
    "#     subject = make_prediction(input_data=multiple_test_json)\n",
    "\n",
    "#     # Then\n",
    "#     assert subject is not None\n",
    "#     assert len(subject.get('predictions')) == 7646\n",
    "\n",
    "#     # We expect some rows to be filtered out\n",
    "#     assert len(subject.get('predictions')) != original_data_length\n"
   ]
  },
  {
   "cell_type": "code",
   "execution_count": 71,
   "metadata": {},
   "outputs": [],
   "source": [
    "#check\n",
    "# practice dictionary"
   ]
  },
  {
   "cell_type": "code",
   "execution_count": 33,
   "metadata": {},
   "outputs": [],
   "source": [
    "subject = make_prediction(input_data=single_test_json)"
   ]
  },
  {
   "cell_type": "code",
   "execution_count": 34,
   "metadata": {},
   "outputs": [
    {
     "data": {
      "text/plain": [
       "{'predictions': array(['Autre'], dtype=object)}"
      ]
     },
     "execution_count": 34,
     "metadata": {},
     "output_type": "execute_result"
    }
   ],
   "source": [
    "subject"
   ]
  },
  {
   "cell_type": "code",
   "execution_count": 57,
   "metadata": {},
   "outputs": [
    {
     "data": {
      "text/plain": [
       "dict"
      ]
     },
     "execution_count": 57,
     "metadata": {},
     "output_type": "execute_result"
    }
   ],
   "source": [
    "type(subject)"
   ]
  },
  {
   "cell_type": "code",
   "execution_count": 60,
   "metadata": {},
   "outputs": [
    {
     "name": "stdout",
     "output_type": "stream",
     "text": [
      "predictions\n"
     ]
    }
   ],
   "source": [
    "for j in subject:\n",
    "    print(j)"
   ]
  },
  {
   "cell_type": "code",
   "execution_count": 62,
   "metadata": {},
   "outputs": [
    {
     "data": {
      "text/plain": [
       "dict_items"
      ]
     },
     "execution_count": 62,
     "metadata": {},
     "output_type": "execute_result"
    }
   ],
   "source": [
    "type(subject.items())"
   ]
  },
  {
   "cell_type": "code",
   "execution_count": 67,
   "metadata": {},
   "outputs": [
    {
     "data": {
      "text/plain": [
       "dict_items([('predictions', array(['Autre', 'Autre', 'Autre', 'Autre', 'Autre', 'Autre', 'Autre',\n",
       "       'Autre', 'Autre', 'Autre'], dtype=object))])"
      ]
     },
     "execution_count": 67,
     "metadata": {},
     "output_type": "execute_result"
    }
   ],
   "source": [
    "k = subject.items()\n",
    "p = subject.values()\n",
    "k"
   ]
  },
  {
   "cell_type": "code",
   "execution_count": 68,
   "metadata": {},
   "outputs": [
    {
     "data": {
      "text/plain": [
       "dict_values([array(['Autre', 'Autre', 'Autre', 'Autre', 'Autre', 'Autre', 'Autre',\n",
       "       'Autre', 'Autre', 'Autre'], dtype=object)])"
      ]
     },
     "execution_count": 68,
     "metadata": {},
     "output_type": "execute_result"
    }
   ],
   "source": [
    "p"
   ]
  },
  {
   "cell_type": "code",
   "execution_count": 66,
   "metadata": {},
   "outputs": [
    {
     "name": "stdout",
     "output_type": "stream",
     "text": [
      "['Autre' 'Autre' 'Autre' 'Autre' 'Autre' 'Autre' 'Autre' 'Autre' 'Autre'\n",
      " 'Autre']\n"
     ]
    }
   ],
   "source": [
    "for i in subject.items():\n",
    "    print(i[1])"
   ]
  },
  {
   "cell_type": "code",
   "execution_count": 69,
   "metadata": {},
   "outputs": [
    {
     "name": "stdout",
     "output_type": "stream",
     "text": [
      "['Autre' 'Autre' 'Autre' 'Autre' 'Autre' 'Autre' 'Autre' 'Autre' 'Autre'\n",
      " 'Autre']\n"
     ]
    }
   ],
   "source": [
    "for i in subject.values():\n",
    "    print(i)"
   ]
  },
  {
   "cell_type": "code",
   "execution_count": 72,
   "metadata": {},
   "outputs": [],
   "source": [
    "# practice dictionary ends here"
   ]
  },
  {
   "cell_type": "code",
   "execution_count": null,
   "metadata": {},
   "outputs": [],
   "source": []
  },
  {
   "cell_type": "code",
   "execution_count": 28,
   "metadata": {},
   "outputs": [],
   "source": [
    "subject = make_prediction(input_data=test_json)"
   ]
  },
  {
   "cell_type": "code",
   "execution_count": 29,
   "metadata": {},
   "outputs": [],
   "source": [
    "ind = []\n",
    "for i in subject.values():\n",
    "    cnt = 0\n",
    "    for j in i:\n",
    "#         print(j)\n",
    "        if j == \"Demande de déploiement\":\n",
    "            ind.append(cnt)\n",
    "#             print(cnt, \"\\t\", \"true\")\n",
    "        cnt += 1"
   ]
  },
  {
   "cell_type": "code",
   "execution_count": 30,
   "metadata": {},
   "outputs": [
    {
     "data": {
      "text/plain": [
       "([67, 68, 69], 387, (7646, 3))"
      ]
     },
     "execution_count": 30,
     "metadata": {},
     "output_type": "execute_result"
    }
   ],
   "source": [
    "ind[:3], len(ind), test_data.shape"
   ]
  },
  {
   "cell_type": "code",
   "execution_count": 71,
   "metadata": {},
   "outputs": [],
   "source": [
    "new_df = test_data.iloc[ind]"
   ]
  },
  {
   "cell_type": "code",
   "execution_count": 72,
   "metadata": {},
   "outputs": [
    {
     "data": {
      "text/plain": [
       "(387, 3)"
      ]
     },
     "execution_count": 72,
     "metadata": {},
     "output_type": "execute_result"
    }
   ],
   "source": [
    "new_df.shape"
   ]
  },
  {
   "cell_type": "code",
   "execution_count": 33,
   "metadata": {},
   "outputs": [
    {
     "data": {
      "text/html": [
       "<div>\n",
       "<style scoped>\n",
       "    .dataframe tbody tr th:only-of-type {\n",
       "        vertical-align: middle;\n",
       "    }\n",
       "\n",
       "    .dataframe tbody tr th {\n",
       "        vertical-align: top;\n",
       "    }\n",
       "\n",
       "    .dataframe thead th {\n",
       "        text-align: right;\n",
       "    }\n",
       "</style>\n",
       "<table border=\"1\" class=\"dataframe\">\n",
       "  <thead>\n",
       "    <tr style=\"text-align: right;\">\n",
       "      <th></th>\n",
       "      <th>Résumé</th>\n",
       "      <th>Descriptif</th>\n",
       "      <th>SubCat Translated</th>\n",
       "    </tr>\n",
       "  </thead>\n",
       "  <tbody>\n",
       "    <tr>\n",
       "      <th>67</th>\n",
       "      <td>[Procuration (pg_)] Livraison</td>\n",
       "      <td>Bonjour, \\n\\nPouvez-vous livrer sur l'environn...</td>\n",
       "      <td>Demande de déploiement</td>\n",
       "    </tr>\n",
       "    <tr>\n",
       "      <th>68</th>\n",
       "      <td>[NEOCLIENTS] Déploiement de la version 01.44 s...</td>\n",
       "      <td>Bonjour, \\n\\nPourriez-vous installer les paque...</td>\n",
       "      <td>Demande de déploiement</td>\n",
       "    </tr>\n",
       "    <tr>\n",
       "      <th>69</th>\n",
       "      <td>[Procuration (pg_)] Livraison</td>\n",
       "      <td>Bonjour, \\n\\nPouvez-vous livrer sur l'environn...</td>\n",
       "      <td>Demande de déploiement</td>\n",
       "    </tr>\n",
       "  </tbody>\n",
       "</table>\n",
       "</div>"
      ],
      "text/plain": [
       "                                               Résumé  \\\n",
       "67                      [Procuration (pg_)] Livraison   \n",
       "68  [NEOCLIENTS] Déploiement de la version 01.44 s...   \n",
       "69                      [Procuration (pg_)] Livraison   \n",
       "\n",
       "                                           Descriptif       SubCat Translated  \n",
       "67  Bonjour, \\n\\nPouvez-vous livrer sur l'environn...  Demande de déploiement  \n",
       "68  Bonjour, \\n\\nPourriez-vous installer les paque...  Demande de déploiement  \n",
       "69  Bonjour, \\n\\nPouvez-vous livrer sur l'environn...  Demande de déploiement  "
      ]
     },
     "execution_count": 33,
     "metadata": {},
     "output_type": "execute_result"
    }
   ],
   "source": [
    "new_df.head(3)"
   ]
  },
  {
   "cell_type": "code",
   "execution_count": 90,
   "metadata": {},
   "outputs": [],
   "source": [
    "new_df.reset_index(inplace = True, drop = True)"
   ]
  },
  {
   "cell_type": "code",
   "execution_count": 91,
   "metadata": {},
   "outputs": [
    {
     "data": {
      "text/html": [
       "<div>\n",
       "<style scoped>\n",
       "    .dataframe tbody tr th:only-of-type {\n",
       "        vertical-align: middle;\n",
       "    }\n",
       "\n",
       "    .dataframe tbody tr th {\n",
       "        vertical-align: top;\n",
       "    }\n",
       "\n",
       "    .dataframe thead th {\n",
       "        text-align: right;\n",
       "    }\n",
       "</style>\n",
       "<table border=\"1\" class=\"dataframe\">\n",
       "  <thead>\n",
       "    <tr style=\"text-align: right;\">\n",
       "      <th></th>\n",
       "      <th>Résumé</th>\n",
       "      <th>Descriptif</th>\n",
       "      <th>SubCat Translated</th>\n",
       "    </tr>\n",
       "  </thead>\n",
       "  <tbody>\n",
       "    <tr>\n",
       "      <th>0</th>\n",
       "      <td>[Procuration (pg_)] Livraison</td>\n",
       "      <td>Bonjour, \\n\\nPouvez-vous livrer sur l'environn...</td>\n",
       "      <td>Demande de déploiement</td>\n",
       "    </tr>\n",
       "    <tr>\n",
       "      <th>1</th>\n",
       "      <td>[NEOCLIENTS] Déploiement de la version 01.44 s...</td>\n",
       "      <td>Bonjour, \\n\\nPourriez-vous installer les paque...</td>\n",
       "      <td>Demande de déploiement</td>\n",
       "    </tr>\n",
       "    <tr>\n",
       "      <th>2</th>\n",
       "      <td>[Procuration (pg_)] Livraison</td>\n",
       "      <td>Bonjour, \\n\\nPouvez-vous livrer sur l'environn...</td>\n",
       "      <td>Demande de déploiement</td>\n",
       "    </tr>\n",
       "  </tbody>\n",
       "</table>\n",
       "</div>"
      ],
      "text/plain": [
       "                                              Résumé  \\\n",
       "0                      [Procuration (pg_)] Livraison   \n",
       "1  [NEOCLIENTS] Déploiement de la version 01.44 s...   \n",
       "2                      [Procuration (pg_)] Livraison   \n",
       "\n",
       "                                          Descriptif       SubCat Translated  \n",
       "0  Bonjour, \\n\\nPouvez-vous livrer sur l'environn...  Demande de déploiement  \n",
       "1  Bonjour, \\n\\nPourriez-vous installer les paque...  Demande de déploiement  \n",
       "2  Bonjour, \\n\\nPouvez-vous livrer sur l'environn...  Demande de déploiement  "
      ]
     },
     "execution_count": 91,
     "metadata": {},
     "output_type": "execute_result"
    }
   ],
   "source": [
    "new_df.head(3)"
   ]
  },
  {
   "cell_type": "code",
   "execution_count": 92,
   "metadata": {},
   "outputs": [],
   "source": [
    "df_res = new_df[[FEATURES]]\n",
    "df_des = new_df[[TARGET]]\n",
    "# df_ = new_df[[SUBC]]"
   ]
  },
  {
   "cell_type": "code",
   "execution_count": 93,
   "metadata": {},
   "outputs": [
    {
     "data": {
      "text/html": [
       "<div>\n",
       "<style scoped>\n",
       "    .dataframe tbody tr th:only-of-type {\n",
       "        vertical-align: middle;\n",
       "    }\n",
       "\n",
       "    .dataframe tbody tr th {\n",
       "        vertical-align: top;\n",
       "    }\n",
       "\n",
       "    .dataframe thead th {\n",
       "        text-align: right;\n",
       "    }\n",
       "</style>\n",
       "<table border=\"1\" class=\"dataframe\">\n",
       "  <thead>\n",
       "    <tr style=\"text-align: right;\">\n",
       "      <th></th>\n",
       "      <th>Résumé</th>\n",
       "    </tr>\n",
       "  </thead>\n",
       "  <tbody>\n",
       "    <tr>\n",
       "      <th>0</th>\n",
       "      <td>[Procuration (pg_)] Livraison</td>\n",
       "    </tr>\n",
       "    <tr>\n",
       "      <th>1</th>\n",
       "      <td>[NEOCLIENTS] Déploiement de la version 01.44 s...</td>\n",
       "    </tr>\n",
       "    <tr>\n",
       "      <th>2</th>\n",
       "      <td>[Procuration (pg_)] Livraison</td>\n",
       "    </tr>\n",
       "  </tbody>\n",
       "</table>\n",
       "</div>"
      ],
      "text/plain": [
       "                                              Résumé\n",
       "0                      [Procuration (pg_)] Livraison\n",
       "1  [NEOCLIENTS] Déploiement de la version 01.44 s...\n",
       "2                      [Procuration (pg_)] Livraison"
      ]
     },
     "execution_count": 93,
     "metadata": {},
     "output_type": "execute_result"
    }
   ],
   "source": [
    "df_res.head(3)"
   ]
  },
  {
   "cell_type": "code",
   "execution_count": 94,
   "metadata": {},
   "outputs": [
    {
     "data": {
      "text/html": [
       "<div>\n",
       "<style scoped>\n",
       "    .dataframe tbody tr th:only-of-type {\n",
       "        vertical-align: middle;\n",
       "    }\n",
       "\n",
       "    .dataframe tbody tr th {\n",
       "        vertical-align: top;\n",
       "    }\n",
       "\n",
       "    .dataframe thead th {\n",
       "        text-align: right;\n",
       "    }\n",
       "</style>\n",
       "<table border=\"1\" class=\"dataframe\">\n",
       "  <thead>\n",
       "    <tr style=\"text-align: right;\">\n",
       "      <th></th>\n",
       "      <th>SubCat Translated</th>\n",
       "    </tr>\n",
       "  </thead>\n",
       "  <tbody>\n",
       "    <tr>\n",
       "      <th>0</th>\n",
       "      <td>Demande de déploiement</td>\n",
       "    </tr>\n",
       "    <tr>\n",
       "      <th>1</th>\n",
       "      <td>Demande de déploiement</td>\n",
       "    </tr>\n",
       "    <tr>\n",
       "      <th>2</th>\n",
       "      <td>Demande de déploiement</td>\n",
       "    </tr>\n",
       "  </tbody>\n",
       "</table>\n",
       "</div>"
      ],
      "text/plain": [
       "        SubCat Translated\n",
       "0  Demande de déploiement\n",
       "1  Demande de déploiement\n",
       "2  Demande de déploiement"
      ]
     },
     "execution_count": 94,
     "metadata": {},
     "output_type": "execute_result"
    }
   ],
   "source": [
    "df_des.head(3)"
   ]
  },
  {
   "cell_type": "code",
   "execution_count": 95,
   "metadata": {},
   "outputs": [],
   "source": [
    "path = new_df"
   ]
  },
  {
   "cell_type": "code",
   "execution_count": 96,
   "metadata": {},
   "outputs": [],
   "source": [
    "path_s = r\"/home/eashan/Eashan/Data_Science/STG/NLP/nlp/project_multilingual/french_classifier/custom_pipeline/pipeline/lepost_entity/le_poste/le_poste/\""
   ]
  },
  {
   "cell_type": "code",
   "execution_count": 97,
   "metadata": {},
   "outputs": [],
   "source": [
    "z = entity.Entity_Extraction(path, path_s)"
   ]
  },
  {
   "cell_type": "code",
   "execution_count": 98,
   "metadata": {},
   "outputs": [],
   "source": [
    "data_s, data_l, dat, df_des, df_res = z.load_data()"
   ]
  },
  {
   "cell_type": "code",
   "execution_count": 99,
   "metadata": {},
   "outputs": [],
   "source": [
    "a = z.Application(data_s, data_l)"
   ]
  },
  {
   "cell_type": "code",
   "execution_count": 100,
   "metadata": {},
   "outputs": [
    {
     "data": {
      "text/html": [
       "<div>\n",
       "<style scoped>\n",
       "    .dataframe tbody tr th:only-of-type {\n",
       "        vertical-align: middle;\n",
       "    }\n",
       "\n",
       "    .dataframe tbody tr th {\n",
       "        vertical-align: top;\n",
       "    }\n",
       "\n",
       "    .dataframe thead th {\n",
       "        text-align: right;\n",
       "    }\n",
       "</style>\n",
       "<table border=\"1\" class=\"dataframe\">\n",
       "  <thead>\n",
       "    <tr style=\"text-align: right;\">\n",
       "      <th></th>\n",
       "      <th>Application</th>\n",
       "    </tr>\n",
       "  </thead>\n",
       "  <tbody>\n",
       "    <tr>\n",
       "      <th>0</th>\n",
       "      <td>'pg_'</td>\n",
       "    </tr>\n",
       "    <tr>\n",
       "      <th>1</th>\n",
       "      <td>'None'</td>\n",
       "    </tr>\n",
       "    <tr>\n",
       "      <th>2</th>\n",
       "      <td>'pg_'</td>\n",
       "    </tr>\n",
       "  </tbody>\n",
       "</table>\n",
       "</div>"
      ],
      "text/plain": [
       "  Application\n",
       "0       'pg_'\n",
       "1      'None'\n",
       "2       'pg_'"
      ]
     },
     "execution_count": 100,
     "metadata": {},
     "output_type": "execute_result"
    }
   ],
   "source": [
    "a.head(3)"
   ]
  },
  {
   "cell_type": "code",
   "execution_count": 101,
   "metadata": {},
   "outputs": [],
   "source": [
    "m = z.Module(data_l)"
   ]
  },
  {
   "cell_type": "code",
   "execution_count": 102,
   "metadata": {},
   "outputs": [
    {
     "data": {
      "text/html": [
       "<div>\n",
       "<style scoped>\n",
       "    .dataframe tbody tr th:only-of-type {\n",
       "        vertical-align: middle;\n",
       "    }\n",
       "\n",
       "    .dataframe tbody tr th {\n",
       "        vertical-align: top;\n",
       "    }\n",
       "\n",
       "    .dataframe thead th {\n",
       "        text-align: right;\n",
       "    }\n",
       "</style>\n",
       "<table border=\"1\" class=\"dataframe\">\n",
       "  <thead>\n",
       "    <tr style=\"text-align: right;\">\n",
       "      <th></th>\n",
       "      <th>module</th>\n",
       "    </tr>\n",
       "  </thead>\n",
       "  <tbody>\n",
       "    <tr>\n",
       "      <th>0</th>\n",
       "      <td>' u1'</td>\n",
       "    </tr>\n",
       "    <tr>\n",
       "      <th>1</th>\n",
       "      <td>(' U4', 'V01_44_00.002'), ' U4', ' U2', (' U2'...</td>\n",
       "    </tr>\n",
       "    <tr>\n",
       "      <th>2</th>\n",
       "      <td>' u1'</td>\n",
       "    </tr>\n",
       "  </tbody>\n",
       "</table>\n",
       "</div>"
      ],
      "text/plain": [
       "                                              module\n",
       "0                                              ' u1'\n",
       "1  (' U4', 'V01_44_00.002'), ' U4', ' U2', (' U2'...\n",
       "2                                              ' u1'"
      ]
     },
     "execution_count": 102,
     "metadata": {},
     "output_type": "execute_result"
    }
   ],
   "source": [
    "m.head(3)"
   ]
  },
  {
   "cell_type": "code",
   "execution_count": 103,
   "metadata": {},
   "outputs": [],
   "source": [
    "r = z.Rfc(data_l)"
   ]
  },
  {
   "cell_type": "code",
   "execution_count": 104,
   "metadata": {},
   "outputs": [
    {
     "data": {
      "text/html": [
       "<div>\n",
       "<style scoped>\n",
       "    .dataframe tbody tr th:only-of-type {\n",
       "        vertical-align: middle;\n",
       "    }\n",
       "\n",
       "    .dataframe tbody tr th {\n",
       "        vertical-align: top;\n",
       "    }\n",
       "\n",
       "    .dataframe thead th {\n",
       "        text-align: right;\n",
       "    }\n",
       "</style>\n",
       "<table border=\"1\" class=\"dataframe\">\n",
       "  <thead>\n",
       "    <tr style=\"text-align: right;\">\n",
       "      <th></th>\n",
       "      <th>rfc</th>\n",
       "    </tr>\n",
       "  </thead>\n",
       "  <tbody>\n",
       "    <tr>\n",
       "      <th>0</th>\n",
       "      <td>'C00042083'</td>\n",
       "    </tr>\n",
       "    <tr>\n",
       "      <th>1</th>\n",
       "      <td>'None'</td>\n",
       "    </tr>\n",
       "    <tr>\n",
       "      <th>2</th>\n",
       "      <td>'C00042083'</td>\n",
       "    </tr>\n",
       "  </tbody>\n",
       "</table>\n",
       "</div>"
      ],
      "text/plain": [
       "           rfc\n",
       "0  'C00042083'\n",
       "1       'None'\n",
       "2  'C00042083'"
      ]
     },
     "execution_count": 104,
     "metadata": {},
     "output_type": "execute_result"
    }
   ],
   "source": [
    "r.head(3)"
   ]
  },
  {
   "cell_type": "code",
   "execution_count": 105,
   "metadata": {},
   "outputs": [],
   "source": [
    "e = z.Environment(data_s, data_l)"
   ]
  },
  {
   "cell_type": "code",
   "execution_count": 106,
   "metadata": {},
   "outputs": [
    {
     "data": {
      "text/html": [
       "<div>\n",
       "<style scoped>\n",
       "    .dataframe tbody tr th:only-of-type {\n",
       "        vertical-align: middle;\n",
       "    }\n",
       "\n",
       "    .dataframe tbody tr th {\n",
       "        vertical-align: top;\n",
       "    }\n",
       "\n",
       "    .dataframe thead th {\n",
       "        text-align: right;\n",
       "    }\n",
       "</style>\n",
       "<table border=\"1\" class=\"dataframe\">\n",
       "  <thead>\n",
       "    <tr style=\"text-align: right;\">\n",
       "      <th></th>\n",
       "      <th>environment</th>\n",
       "    </tr>\n",
       "  </thead>\n",
       "  <tbody>\n",
       "    <tr>\n",
       "      <th>0</th>\n",
       "      <td>'PPRD'</td>\n",
       "    </tr>\n",
       "    <tr>\n",
       "      <th>1</th>\n",
       "      <td>'None'</td>\n",
       "    </tr>\n",
       "    <tr>\n",
       "      <th>2</th>\n",
       "      <td>'PROD'</td>\n",
       "    </tr>\n",
       "  </tbody>\n",
       "</table>\n",
       "</div>"
      ],
      "text/plain": [
       "  environment\n",
       "0      'PPRD'\n",
       "1      'None'\n",
       "2      'PROD'"
      ]
     },
     "execution_count": 106,
     "metadata": {},
     "output_type": "execute_result"
    }
   ],
   "source": [
    "e.head(3)"
   ]
  },
  {
   "cell_type": "code",
   "execution_count": 107,
   "metadata": {},
   "outputs": [],
   "source": [
    "v = z.Version(data_s, data_l)"
   ]
  },
  {
   "cell_type": "code",
   "execution_count": 108,
   "metadata": {},
   "outputs": [
    {
     "data": {
      "text/html": [
       "<div>\n",
       "<style scoped>\n",
       "    .dataframe tbody tr th:only-of-type {\n",
       "        vertical-align: middle;\n",
       "    }\n",
       "\n",
       "    .dataframe tbody tr th {\n",
       "        vertical-align: top;\n",
       "    }\n",
       "\n",
       "    .dataframe thead th {\n",
       "        text-align: right;\n",
       "    }\n",
       "</style>\n",
       "<table border=\"1\" class=\"dataframe\">\n",
       "  <thead>\n",
       "    <tr style=\"text-align: right;\">\n",
       "      <th></th>\n",
       "      <th>Version</th>\n",
       "    </tr>\n",
       "  </thead>\n",
       "  <tbody>\n",
       "    <tr>\n",
       "      <th>0</th>\n",
       "      <td>'V03_01_00.087_IT30'</td>\n",
       "    </tr>\n",
       "    <tr>\n",
       "      <th>1</th>\n",
       "      <td>'V01_44_00.018_IT14', 'V01_44_00.002_IT10'</td>\n",
       "    </tr>\n",
       "    <tr>\n",
       "      <th>2</th>\n",
       "      <td>'V03_01_00.089_IT30'</td>\n",
       "    </tr>\n",
       "  </tbody>\n",
       "</table>\n",
       "</div>"
      ],
      "text/plain": [
       "                                      Version\n",
       "0                        'V03_01_00.087_IT30'\n",
       "1  'V01_44_00.018_IT14', 'V01_44_00.002_IT10'\n",
       "2                        'V03_01_00.089_IT30'"
      ]
     },
     "execution_count": 108,
     "metadata": {},
     "output_type": "execute_result"
    }
   ],
   "source": [
    "v.head(3)"
   ]
  },
  {
   "cell_type": "code",
   "execution_count": 112,
   "metadata": {},
   "outputs": [
    {
     "data": {
      "text/plain": [
       "(pandas.core.frame.DataFrame,\n",
       " (387, 1),\n",
       " pandas.core.frame.DataFrame,\n",
       " pandas.core.frame.DataFrame,\n",
       " pandas.core.frame.DataFrame,\n",
       " pandas.core.frame.DataFrame,\n",
       " pandas.core.frame.DataFrame,\n",
       " pandas.core.frame.DataFrame,\n",
       " pandas.core.frame.DataFrame,\n",
       " (387, 1),\n",
       " (387, 1),\n",
       " (387, 1),\n",
       " (387, 1),\n",
       " (387, 1))"
      ]
     },
     "execution_count": 112,
     "metadata": {},
     "output_type": "execute_result"
    }
   ],
   "source": [
    "type(a), a.shape, type(m), type(r), type(e), type(v), type(df_), type(df_res), type(df_des), a.shape, m.shape, r.shape, e.shape, v.shape"
   ]
  },
  {
   "cell_type": "code",
   "execution_count": 115,
   "metadata": {},
   "outputs": [],
   "source": [
    "df = pd.concat([df_res, df_des, a, m, r, e, v], axis = 1)"
   ]
  },
  {
   "cell_type": "code",
   "execution_count": 116,
   "metadata": {},
   "outputs": [
    {
     "data": {
      "text/html": [
       "<div>\n",
       "<style scoped>\n",
       "    .dataframe tbody tr th:only-of-type {\n",
       "        vertical-align: middle;\n",
       "    }\n",
       "\n",
       "    .dataframe tbody tr th {\n",
       "        vertical-align: top;\n",
       "    }\n",
       "\n",
       "    .dataframe thead th {\n",
       "        text-align: right;\n",
       "    }\n",
       "</style>\n",
       "<table border=\"1\" class=\"dataframe\">\n",
       "  <thead>\n",
       "    <tr style=\"text-align: right;\">\n",
       "      <th></th>\n",
       "      <th>Résumé</th>\n",
       "      <th>Descriptif</th>\n",
       "      <th>Application</th>\n",
       "      <th>module</th>\n",
       "      <th>rfc</th>\n",
       "      <th>environment</th>\n",
       "      <th>Version</th>\n",
       "    </tr>\n",
       "  </thead>\n",
       "  <tbody>\n",
       "    <tr>\n",
       "      <th>0</th>\n",
       "      <td>Procura io pg_ Livraio</td>\n",
       "      <td>Bo jour Pouvez vou livrer ur l'e viro eme de P...</td>\n",
       "      <td>'pg_'</td>\n",
       "      <td>' u1'</td>\n",
       "      <td>'C00042083'</td>\n",
       "      <td>'PPRD'</td>\n",
       "      <td>'V03_01_00.087_IT30'</td>\n",
       "    </tr>\n",
       "    <tr>\n",
       "      <th>1</th>\n",
       "      <td>NEOCLIENTS Déploieme de la verio 01.44 ur SPT</td>\n",
       "      <td>Bo jour Pourriez vou i aller le paque uiva de ...</td>\n",
       "      <td>'None'</td>\n",
       "      <td>(' U4', 'V01_44_00.002'), ' U4', ' U2', (' U2'...</td>\n",
       "      <td>'None'</td>\n",
       "      <td>'None'</td>\n",
       "      <td>'V01_44_00.018_IT14', 'V01_44_00.002_IT10'</td>\n",
       "    </tr>\n",
       "    <tr>\n",
       "      <th>2</th>\n",
       "      <td>Procura io pg_ Livraio</td>\n",
       "      <td>Bo jour Pouvez vou livrer ur l'e viro eme de P...</td>\n",
       "      <td>'pg_'</td>\n",
       "      <td>' u1'</td>\n",
       "      <td>'C00042083'</td>\n",
       "      <td>'PROD'</td>\n",
       "      <td>'V03_01_00.089_IT30'</td>\n",
       "    </tr>\n",
       "  </tbody>\n",
       "</table>\n",
       "</div>"
      ],
      "text/plain": [
       "                                          Résumé  \\\n",
       "0                         Procura io pg_ Livraio   \n",
       "1  NEOCLIENTS Déploieme de la verio 01.44 ur SPT   \n",
       "2                         Procura io pg_ Livraio   \n",
       "\n",
       "                                          Descriptif Application  \\\n",
       "0  Bo jour Pouvez vou livrer ur l'e viro eme de P...       'pg_'   \n",
       "1  Bo jour Pourriez vou i aller le paque uiva de ...      'None'   \n",
       "2  Bo jour Pouvez vou livrer ur l'e viro eme de P...       'pg_'   \n",
       "\n",
       "                                              module          rfc environment  \\\n",
       "0                                              ' u1'  'C00042083'      'PPRD'   \n",
       "1  (' U4', 'V01_44_00.002'), ' U4', ' U2', (' U2'...       'None'      'None'   \n",
       "2                                              ' u1'  'C00042083'      'PROD'   \n",
       "\n",
       "                                      Version  \n",
       "0                        'V03_01_00.087_IT30'  \n",
       "1  'V01_44_00.018_IT14', 'V01_44_00.002_IT10'  \n",
       "2                        'V03_01_00.089_IT30'  "
      ]
     },
     "execution_count": 116,
     "metadata": {},
     "output_type": "execute_result"
    }
   ],
   "source": [
    "df.head(3)"
   ]
  },
  {
   "cell_type": "code",
   "execution_count": 117,
   "metadata": {},
   "outputs": [],
   "source": [
    "z.transform(df)"
   ]
  },
  {
   "cell_type": "code",
   "execution_count": 118,
   "metadata": {},
   "outputs": [],
   "source": [
    "### consolidated function"
   ]
  },
  {
   "cell_type": "code",
   "execution_count": 119,
   "metadata": {},
   "outputs": [],
   "source": [
    "subject = make_prediction(input_data=test_json)\n",
    "\n",
    "ind = []\n",
    "for i in subject.values():\n",
    "    cnt = 0\n",
    "    for j in i:\n",
    "#         print(j)\n",
    "        if j == \"Demande de déploiement\":\n",
    "            ind.append(cnt)\n",
    "#             print(cnt, \"\\t\", \"true\")\n",
    "        cnt += 1\n",
    "    \n",
    "new_df = test_data.iloc[ind]\n",
    "\n",
    "new_df.reset_index(inplace = True, drop = True)\n",
    "\n",
    "df_res = new_df[[FEATURES]]\n",
    "df_des = new_df[[TARGET]]\n",
    "\n",
    "path = new_df\n",
    "\n",
    "z = entity.Entity_Extraction(path, path_s)\n",
    "data_s, data_l, dat, df_des, df_res = z.load_data()\n",
    "a = z.Application(data_s, data_l)\n",
    "m = z.Module(data_l)\n",
    "r = z.Rfc(data_l)\n",
    "e = z.Environment(data_s, data_l)\n",
    "v = z.Version(data_s, data_l)\n",
    "\n",
    "df = pd.concat([df_res, df_des, a, m, r, e, v], axis = 1)\n",
    "z.transform(df)"
   ]
  },
  {
   "cell_type": "code",
   "execution_count": null,
   "metadata": {},
   "outputs": [],
   "source": []
  }
 ],
 "metadata": {
  "kernelspec": {
   "display_name": "nlp",
   "language": "python",
   "name": "nlp"
  },
  "language_info": {
   "codemirror_mode": {
    "name": "ipython",
    "version": 3
   },
   "file_extension": ".py",
   "mimetype": "text/x-python",
   "name": "python",
   "nbconvert_exporter": "python",
   "pygments_lexer": "ipython3",
   "version": "3.6.8"
  }
 },
 "nbformat": 4,
 "nbformat_minor": 4
}
